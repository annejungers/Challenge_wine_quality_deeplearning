{
 "cells": [
  {
   "cell_type": "code",
   "execution_count": 1,
   "source": [
    "from tensorflow import keras\r\n",
    "import pandas as pd\r\n",
    "import numpy as np\r\n",
    "from matplotlib import pyplot as plt\r\n",
    "%matplotlib inline"
   ],
   "outputs": [],
   "metadata": {}
  },
  {
   "cell_type": "code",
   "execution_count": 2,
   "source": [
    "df = pd.read_csv(\"wine.csv\")\r\n",
    "\r\n",
    "df.head(10)\r\n"
   ],
   "outputs": [
    {
     "output_type": "execute_result",
     "data": {
      "text/html": [
       "<div>\n",
       "<style scoped>\n",
       "    .dataframe tbody tr th:only-of-type {\n",
       "        vertical-align: middle;\n",
       "    }\n",
       "\n",
       "    .dataframe tbody tr th {\n",
       "        vertical-align: top;\n",
       "    }\n",
       "\n",
       "    .dataframe thead th {\n",
       "        text-align: right;\n",
       "    }\n",
       "</style>\n",
       "<table border=\"1\" class=\"dataframe\">\n",
       "  <thead>\n",
       "    <tr style=\"text-align: right;\">\n",
       "      <th></th>\n",
       "      <th>index</th>\n",
       "      <th>fixed acidity</th>\n",
       "      <th>volatile acidity</th>\n",
       "      <th>citric acid</th>\n",
       "      <th>residual sugar</th>\n",
       "      <th>chlorides</th>\n",
       "      <th>free sulfur dioxide</th>\n",
       "      <th>total sulfur dioxide</th>\n",
       "      <th>density</th>\n",
       "      <th>pH</th>\n",
       "      <th>sulphates</th>\n",
       "      <th>alcohol</th>\n",
       "      <th>quality</th>\n",
       "    </tr>\n",
       "  </thead>\n",
       "  <tbody>\n",
       "    <tr>\n",
       "      <th>0</th>\n",
       "      <td>0</td>\n",
       "      <td>7.4</td>\n",
       "      <td>0.70</td>\n",
       "      <td>0.00</td>\n",
       "      <td>1.9</td>\n",
       "      <td>0.076</td>\n",
       "      <td>11.0</td>\n",
       "      <td>34.0</td>\n",
       "      <td>0.9978</td>\n",
       "      <td>3.51</td>\n",
       "      <td>0.56</td>\n",
       "      <td>9.4</td>\n",
       "      <td>5</td>\n",
       "    </tr>\n",
       "    <tr>\n",
       "      <th>1</th>\n",
       "      <td>1</td>\n",
       "      <td>7.8</td>\n",
       "      <td>0.88</td>\n",
       "      <td>0.00</td>\n",
       "      <td>2.6</td>\n",
       "      <td>0.098</td>\n",
       "      <td>25.0</td>\n",
       "      <td>67.0</td>\n",
       "      <td>0.9968</td>\n",
       "      <td>3.20</td>\n",
       "      <td>0.68</td>\n",
       "      <td>9.8</td>\n",
       "      <td>5</td>\n",
       "    </tr>\n",
       "    <tr>\n",
       "      <th>2</th>\n",
       "      <td>2</td>\n",
       "      <td>7.8</td>\n",
       "      <td>0.76</td>\n",
       "      <td>0.04</td>\n",
       "      <td>2.3</td>\n",
       "      <td>0.092</td>\n",
       "      <td>15.0</td>\n",
       "      <td>54.0</td>\n",
       "      <td>0.9970</td>\n",
       "      <td>3.26</td>\n",
       "      <td>0.65</td>\n",
       "      <td>9.8</td>\n",
       "      <td>5</td>\n",
       "    </tr>\n",
       "    <tr>\n",
       "      <th>3</th>\n",
       "      <td>3</td>\n",
       "      <td>11.2</td>\n",
       "      <td>0.28</td>\n",
       "      <td>0.56</td>\n",
       "      <td>1.9</td>\n",
       "      <td>0.075</td>\n",
       "      <td>17.0</td>\n",
       "      <td>60.0</td>\n",
       "      <td>0.9980</td>\n",
       "      <td>3.16</td>\n",
       "      <td>0.58</td>\n",
       "      <td>9.8</td>\n",
       "      <td>6</td>\n",
       "    </tr>\n",
       "    <tr>\n",
       "      <th>4</th>\n",
       "      <td>4</td>\n",
       "      <td>7.4</td>\n",
       "      <td>0.70</td>\n",
       "      <td>0.00</td>\n",
       "      <td>1.9</td>\n",
       "      <td>0.076</td>\n",
       "      <td>11.0</td>\n",
       "      <td>34.0</td>\n",
       "      <td>0.9978</td>\n",
       "      <td>3.51</td>\n",
       "      <td>0.56</td>\n",
       "      <td>9.4</td>\n",
       "      <td>5</td>\n",
       "    </tr>\n",
       "    <tr>\n",
       "      <th>5</th>\n",
       "      <td>5</td>\n",
       "      <td>7.4</td>\n",
       "      <td>0.66</td>\n",
       "      <td>0.00</td>\n",
       "      <td>1.8</td>\n",
       "      <td>0.075</td>\n",
       "      <td>13.0</td>\n",
       "      <td>40.0</td>\n",
       "      <td>0.9978</td>\n",
       "      <td>3.51</td>\n",
       "      <td>0.56</td>\n",
       "      <td>9.4</td>\n",
       "      <td>5</td>\n",
       "    </tr>\n",
       "    <tr>\n",
       "      <th>6</th>\n",
       "      <td>6</td>\n",
       "      <td>7.9</td>\n",
       "      <td>0.60</td>\n",
       "      <td>0.06</td>\n",
       "      <td>1.6</td>\n",
       "      <td>0.069</td>\n",
       "      <td>15.0</td>\n",
       "      <td>59.0</td>\n",
       "      <td>0.9964</td>\n",
       "      <td>3.30</td>\n",
       "      <td>0.46</td>\n",
       "      <td>9.4</td>\n",
       "      <td>5</td>\n",
       "    </tr>\n",
       "    <tr>\n",
       "      <th>7</th>\n",
       "      <td>7</td>\n",
       "      <td>7.3</td>\n",
       "      <td>0.65</td>\n",
       "      <td>0.00</td>\n",
       "      <td>1.2</td>\n",
       "      <td>0.065</td>\n",
       "      <td>15.0</td>\n",
       "      <td>21.0</td>\n",
       "      <td>0.9946</td>\n",
       "      <td>3.39</td>\n",
       "      <td>0.47</td>\n",
       "      <td>10.0</td>\n",
       "      <td>7</td>\n",
       "    </tr>\n",
       "    <tr>\n",
       "      <th>8</th>\n",
       "      <td>8</td>\n",
       "      <td>7.8</td>\n",
       "      <td>0.58</td>\n",
       "      <td>0.02</td>\n",
       "      <td>2.0</td>\n",
       "      <td>0.073</td>\n",
       "      <td>9.0</td>\n",
       "      <td>18.0</td>\n",
       "      <td>0.9968</td>\n",
       "      <td>3.36</td>\n",
       "      <td>0.57</td>\n",
       "      <td>9.5</td>\n",
       "      <td>7</td>\n",
       "    </tr>\n",
       "    <tr>\n",
       "      <th>9</th>\n",
       "      <td>9</td>\n",
       "      <td>7.5</td>\n",
       "      <td>0.50</td>\n",
       "      <td>0.36</td>\n",
       "      <td>6.1</td>\n",
       "      <td>0.071</td>\n",
       "      <td>17.0</td>\n",
       "      <td>102.0</td>\n",
       "      <td>0.9978</td>\n",
       "      <td>3.35</td>\n",
       "      <td>0.80</td>\n",
       "      <td>10.5</td>\n",
       "      <td>5</td>\n",
       "    </tr>\n",
       "  </tbody>\n",
       "</table>\n",
       "</div>"
      ],
      "text/plain": [
       "   index  fixed acidity  volatile acidity  citric acid  residual sugar  \\\n",
       "0      0            7.4              0.70         0.00             1.9   \n",
       "1      1            7.8              0.88         0.00             2.6   \n",
       "2      2            7.8              0.76         0.04             2.3   \n",
       "3      3           11.2              0.28         0.56             1.9   \n",
       "4      4            7.4              0.70         0.00             1.9   \n",
       "5      5            7.4              0.66         0.00             1.8   \n",
       "6      6            7.9              0.60         0.06             1.6   \n",
       "7      7            7.3              0.65         0.00             1.2   \n",
       "8      8            7.8              0.58         0.02             2.0   \n",
       "9      9            7.5              0.50         0.36             6.1   \n",
       "\n",
       "   chlorides  free sulfur dioxide  total sulfur dioxide  density    pH  \\\n",
       "0      0.076                 11.0                  34.0   0.9978  3.51   \n",
       "1      0.098                 25.0                  67.0   0.9968  3.20   \n",
       "2      0.092                 15.0                  54.0   0.9970  3.26   \n",
       "3      0.075                 17.0                  60.0   0.9980  3.16   \n",
       "4      0.076                 11.0                  34.0   0.9978  3.51   \n",
       "5      0.075                 13.0                  40.0   0.9978  3.51   \n",
       "6      0.069                 15.0                  59.0   0.9964  3.30   \n",
       "7      0.065                 15.0                  21.0   0.9946  3.39   \n",
       "8      0.073                  9.0                  18.0   0.9968  3.36   \n",
       "9      0.071                 17.0                 102.0   0.9978  3.35   \n",
       "\n",
       "   sulphates  alcohol  quality  \n",
       "0       0.56      9.4        5  \n",
       "1       0.68      9.8        5  \n",
       "2       0.65      9.8        5  \n",
       "3       0.58      9.8        6  \n",
       "4       0.56      9.4        5  \n",
       "5       0.56      9.4        5  \n",
       "6       0.46      9.4        5  \n",
       "7       0.47     10.0        7  \n",
       "8       0.57      9.5        7  \n",
       "9       0.80     10.5        5  "
      ]
     },
     "metadata": {},
     "execution_count": 2
    }
   ],
   "metadata": {}
  },
  {
   "cell_type": "code",
   "execution_count": 3,
   "source": [
    "df.shape"
   ],
   "outputs": [
    {
     "output_type": "execute_result",
     "data": {
      "text/plain": [
       "(6497, 13)"
      ]
     },
     "metadata": {},
     "execution_count": 3
    }
   ],
   "metadata": {}
  },
  {
   "cell_type": "code",
   "execution_count": 4,
   "source": [
    "df.info()"
   ],
   "outputs": [
    {
     "output_type": "stream",
     "name": "stdout",
     "text": [
      "<class 'pandas.core.frame.DataFrame'>\n",
      "RangeIndex: 6497 entries, 0 to 6496\n",
      "Data columns (total 13 columns):\n",
      " #   Column                Non-Null Count  Dtype  \n",
      "---  ------                --------------  -----  \n",
      " 0   index                 6497 non-null   int64  \n",
      " 1   fixed acidity         6497 non-null   float64\n",
      " 2   volatile acidity      6497 non-null   float64\n",
      " 3   citric acid           6497 non-null   float64\n",
      " 4   residual sugar        6497 non-null   float64\n",
      " 5   chlorides             6497 non-null   float64\n",
      " 6   free sulfur dioxide   6497 non-null   float64\n",
      " 7   total sulfur dioxide  6497 non-null   float64\n",
      " 8   density               6497 non-null   float64\n",
      " 9   pH                    6497 non-null   float64\n",
      " 10  sulphates             6497 non-null   float64\n",
      " 11  alcohol               6497 non-null   float64\n",
      " 12  quality               6497 non-null   int64  \n",
      "dtypes: float64(11), int64(2)\n",
      "memory usage: 660.0 KB\n"
     ]
    }
   ],
   "metadata": {}
  },
  {
   "cell_type": "code",
   "execution_count": 5,
   "source": [
    "df.describe()"
   ],
   "outputs": [
    {
     "output_type": "execute_result",
     "data": {
      "text/html": [
       "<div>\n",
       "<style scoped>\n",
       "    .dataframe tbody tr th:only-of-type {\n",
       "        vertical-align: middle;\n",
       "    }\n",
       "\n",
       "    .dataframe tbody tr th {\n",
       "        vertical-align: top;\n",
       "    }\n",
       "\n",
       "    .dataframe thead th {\n",
       "        text-align: right;\n",
       "    }\n",
       "</style>\n",
       "<table border=\"1\" class=\"dataframe\">\n",
       "  <thead>\n",
       "    <tr style=\"text-align: right;\">\n",
       "      <th></th>\n",
       "      <th>index</th>\n",
       "      <th>fixed acidity</th>\n",
       "      <th>volatile acidity</th>\n",
       "      <th>citric acid</th>\n",
       "      <th>residual sugar</th>\n",
       "      <th>chlorides</th>\n",
       "      <th>free sulfur dioxide</th>\n",
       "      <th>total sulfur dioxide</th>\n",
       "      <th>density</th>\n",
       "      <th>pH</th>\n",
       "      <th>sulphates</th>\n",
       "      <th>alcohol</th>\n",
       "      <th>quality</th>\n",
       "    </tr>\n",
       "  </thead>\n",
       "  <tbody>\n",
       "    <tr>\n",
       "      <th>count</th>\n",
       "      <td>6497.000000</td>\n",
       "      <td>6497.000000</td>\n",
       "      <td>6497.000000</td>\n",
       "      <td>6497.000000</td>\n",
       "      <td>6497.000000</td>\n",
       "      <td>6497.000000</td>\n",
       "      <td>6497.000000</td>\n",
       "      <td>6497.000000</td>\n",
       "      <td>6497.000000</td>\n",
       "      <td>6497.000000</td>\n",
       "      <td>6497.000000</td>\n",
       "      <td>6497.000000</td>\n",
       "      <td>6497.000000</td>\n",
       "    </tr>\n",
       "    <tr>\n",
       "      <th>mean</th>\n",
       "      <td>2042.535632</td>\n",
       "      <td>7.215307</td>\n",
       "      <td>0.339666</td>\n",
       "      <td>0.318633</td>\n",
       "      <td>5.443235</td>\n",
       "      <td>0.056034</td>\n",
       "      <td>30.525319</td>\n",
       "      <td>115.744574</td>\n",
       "      <td>0.994697</td>\n",
       "      <td>3.218501</td>\n",
       "      <td>0.531268</td>\n",
       "      <td>10.491801</td>\n",
       "      <td>5.818378</td>\n",
       "    </tr>\n",
       "    <tr>\n",
       "      <th>std</th>\n",
       "      <td>1436.926393</td>\n",
       "      <td>1.296434</td>\n",
       "      <td>0.164636</td>\n",
       "      <td>0.145318</td>\n",
       "      <td>4.757804</td>\n",
       "      <td>0.035034</td>\n",
       "      <td>17.749400</td>\n",
       "      <td>56.521855</td>\n",
       "      <td>0.002999</td>\n",
       "      <td>0.160787</td>\n",
       "      <td>0.148806</td>\n",
       "      <td>1.192712</td>\n",
       "      <td>0.873255</td>\n",
       "    </tr>\n",
       "    <tr>\n",
       "      <th>min</th>\n",
       "      <td>0.000000</td>\n",
       "      <td>3.800000</td>\n",
       "      <td>0.080000</td>\n",
       "      <td>0.000000</td>\n",
       "      <td>0.600000</td>\n",
       "      <td>0.009000</td>\n",
       "      <td>1.000000</td>\n",
       "      <td>6.000000</td>\n",
       "      <td>0.987110</td>\n",
       "      <td>2.720000</td>\n",
       "      <td>0.220000</td>\n",
       "      <td>8.000000</td>\n",
       "      <td>3.000000</td>\n",
       "    </tr>\n",
       "    <tr>\n",
       "      <th>25%</th>\n",
       "      <td>812.000000</td>\n",
       "      <td>6.400000</td>\n",
       "      <td>0.230000</td>\n",
       "      <td>0.250000</td>\n",
       "      <td>1.800000</td>\n",
       "      <td>0.038000</td>\n",
       "      <td>17.000000</td>\n",
       "      <td>77.000000</td>\n",
       "      <td>0.992340</td>\n",
       "      <td>3.110000</td>\n",
       "      <td>0.430000</td>\n",
       "      <td>9.500000</td>\n",
       "      <td>5.000000</td>\n",
       "    </tr>\n",
       "    <tr>\n",
       "      <th>50%</th>\n",
       "      <td>1649.000000</td>\n",
       "      <td>7.000000</td>\n",
       "      <td>0.290000</td>\n",
       "      <td>0.310000</td>\n",
       "      <td>3.000000</td>\n",
       "      <td>0.047000</td>\n",
       "      <td>29.000000</td>\n",
       "      <td>118.000000</td>\n",
       "      <td>0.994890</td>\n",
       "      <td>3.210000</td>\n",
       "      <td>0.510000</td>\n",
       "      <td>10.300000</td>\n",
       "      <td>6.000000</td>\n",
       "    </tr>\n",
       "    <tr>\n",
       "      <th>75%</th>\n",
       "      <td>3273.000000</td>\n",
       "      <td>7.700000</td>\n",
       "      <td>0.400000</td>\n",
       "      <td>0.390000</td>\n",
       "      <td>8.100000</td>\n",
       "      <td>0.065000</td>\n",
       "      <td>41.000000</td>\n",
       "      <td>156.000000</td>\n",
       "      <td>0.996990</td>\n",
       "      <td>3.320000</td>\n",
       "      <td>0.600000</td>\n",
       "      <td>11.300000</td>\n",
       "      <td>6.000000</td>\n",
       "    </tr>\n",
       "    <tr>\n",
       "      <th>max</th>\n",
       "      <td>4897.000000</td>\n",
       "      <td>15.900000</td>\n",
       "      <td>1.580000</td>\n",
       "      <td>1.660000</td>\n",
       "      <td>65.800000</td>\n",
       "      <td>0.611000</td>\n",
       "      <td>289.000000</td>\n",
       "      <td>440.000000</td>\n",
       "      <td>1.038980</td>\n",
       "      <td>4.010000</td>\n",
       "      <td>2.000000</td>\n",
       "      <td>14.900000</td>\n",
       "      <td>9.000000</td>\n",
       "    </tr>\n",
       "  </tbody>\n",
       "</table>\n",
       "</div>"
      ],
      "text/plain": [
       "             index  fixed acidity  volatile acidity  citric acid  \\\n",
       "count  6497.000000    6497.000000       6497.000000  6497.000000   \n",
       "mean   2042.535632       7.215307          0.339666     0.318633   \n",
       "std    1436.926393       1.296434          0.164636     0.145318   \n",
       "min       0.000000       3.800000          0.080000     0.000000   \n",
       "25%     812.000000       6.400000          0.230000     0.250000   \n",
       "50%    1649.000000       7.000000          0.290000     0.310000   \n",
       "75%    3273.000000       7.700000          0.400000     0.390000   \n",
       "max    4897.000000      15.900000          1.580000     1.660000   \n",
       "\n",
       "       residual sugar    chlorides  free sulfur dioxide  total sulfur dioxide  \\\n",
       "count     6497.000000  6497.000000          6497.000000           6497.000000   \n",
       "mean         5.443235     0.056034            30.525319            115.744574   \n",
       "std          4.757804     0.035034            17.749400             56.521855   \n",
       "min          0.600000     0.009000             1.000000              6.000000   \n",
       "25%          1.800000     0.038000            17.000000             77.000000   \n",
       "50%          3.000000     0.047000            29.000000            118.000000   \n",
       "75%          8.100000     0.065000            41.000000            156.000000   \n",
       "max         65.800000     0.611000           289.000000            440.000000   \n",
       "\n",
       "           density           pH    sulphates      alcohol      quality  \n",
       "count  6497.000000  6497.000000  6497.000000  6497.000000  6497.000000  \n",
       "mean      0.994697     3.218501     0.531268    10.491801     5.818378  \n",
       "std       0.002999     0.160787     0.148806     1.192712     0.873255  \n",
       "min       0.987110     2.720000     0.220000     8.000000     3.000000  \n",
       "25%       0.992340     3.110000     0.430000     9.500000     5.000000  \n",
       "50%       0.994890     3.210000     0.510000    10.300000     6.000000  \n",
       "75%       0.996990     3.320000     0.600000    11.300000     6.000000  \n",
       "max       1.038980     4.010000     2.000000    14.900000     9.000000  "
      ]
     },
     "metadata": {},
     "execution_count": 5
    }
   ],
   "metadata": {}
  },
  {
   "cell_type": "code",
   "execution_count": 6,
   "source": [
    "df.columns"
   ],
   "outputs": [
    {
     "output_type": "execute_result",
     "data": {
      "text/plain": [
       "Index(['index', 'fixed acidity', 'volatile acidity', 'citric acid',\n",
       "       'residual sugar', 'chlorides', 'free sulfur dioxide',\n",
       "       'total sulfur dioxide', 'density', 'pH', 'sulphates', 'alcohol',\n",
       "       'quality'],\n",
       "      dtype='object')"
      ]
     },
     "metadata": {},
     "execution_count": 6
    }
   ],
   "metadata": {}
  },
  {
   "cell_type": "code",
   "execution_count": 7,
   "source": [
    "df.value_counts(['quality'], dropna = 'False')\r\n",
    "\r\n",
    "#dropnabool, default True\r\n",
    "#Don’t include counts of NaN."
   ],
   "outputs": [
    {
     "output_type": "execute_result",
     "data": {
      "text/plain": [
       "quality\n",
       "6          2836\n",
       "5          2138\n",
       "7          1079\n",
       "4           216\n",
       "8           193\n",
       "3            30\n",
       "9             5\n",
       "dtype: int64"
      ]
     },
     "metadata": {},
     "execution_count": 7
    }
   ],
   "metadata": {}
  },
  {
   "cell_type": "code",
   "execution_count": 8,
   "source": [
    "#First define what is a good wine and a bad wine/define \"treshold\"\r\n",
    "\r\n",
    "\r\n",
    "good_wine = [7,8,9]\r\n",
    "bad_wine = [3,4,5,6]\r\n",
    "\r\n",
    "df.quality = df.quality.replace(to_replace=good_wine, value=1)\r\n",
    "df.quality = df.quality.replace(to_replace= bad_wine, value=0)\r\n",
    "\r\n",
    "df = df.drop(columns=[\"index\"])\r\n"
   ],
   "outputs": [],
   "metadata": {}
  },
  {
   "cell_type": "code",
   "execution_count": 9,
   "source": [
    "df.info()"
   ],
   "outputs": [
    {
     "output_type": "stream",
     "name": "stdout",
     "text": [
      "<class 'pandas.core.frame.DataFrame'>\n",
      "RangeIndex: 6497 entries, 0 to 6496\n",
      "Data columns (total 12 columns):\n",
      " #   Column                Non-Null Count  Dtype  \n",
      "---  ------                --------------  -----  \n",
      " 0   fixed acidity         6497 non-null   float64\n",
      " 1   volatile acidity      6497 non-null   float64\n",
      " 2   citric acid           6497 non-null   float64\n",
      " 3   residual sugar        6497 non-null   float64\n",
      " 4   chlorides             6497 non-null   float64\n",
      " 5   free sulfur dioxide   6497 non-null   float64\n",
      " 6   total sulfur dioxide  6497 non-null   float64\n",
      " 7   density               6497 non-null   float64\n",
      " 8   pH                    6497 non-null   float64\n",
      " 9   sulphates             6497 non-null   float64\n",
      " 10  alcohol               6497 non-null   float64\n",
      " 11  quality               6497 non-null   int64  \n",
      "dtypes: float64(11), int64(1)\n",
      "memory usage: 609.2 KB\n"
     ]
    }
   ],
   "metadata": {}
  },
  {
   "cell_type": "code",
   "execution_count": 10,
   "source": [
    "#Second define the architecture of the model\r\n",
    "\r\n",
    "# COACHES NOTES: It would be nice to clean up this a bit. Will you implement the code below later? \r\n",
    "# If not consider removing."
   ],
   "outputs": [],
   "metadata": {}
  },
  {
   "cell_type": "code",
   "execution_count": 11,
   "source": [
    "#Creating a test/train split\r\n",
    "\r\n",
    "#train_test_split_fraction = 0.80\r\n",
    "#split_index = int(df.shape[0] * train_test_split_fraction)\r\n",
    "#df_train = df[:split_index]\r\n",
    "#df_test = df[split_index:]\r\n",
    "#\r\n",
    "#\"\"\"\r\n",
    "#target = pd.get_dummies(df['quality']).values # One hot encode\r\n",
    "#target[:12]\r\n",
    "#\"\"\"\r\n",
    "#target = pd.get_dummies(df['quality']).values # One hot encode\r\n",
    "#target = target.astype(np.float32)\r\n",
    "#target[:13]\r\n"
   ],
   "outputs": [],
   "metadata": {}
  },
  {
   "cell_type": "code",
   "execution_count": 12,
   "source": [
    "# Selecting the features and the target\r\n",
    "\r\n",
    "X = df.drop('quality', axis = 1).values\r\n",
    "#X_test = df.drop('quality', axis = 1).values\r\n",
    "\r\n",
    "y = df['quality']\r\n",
    "\r\n",
    "# COACHES NOTES: It would be better to do qny imports at the beginning of the notebook or cell.\r\n",
    "\r\n",
    "from sklearn.model_selection import train_test_split\r\n",
    "\r\n",
    "X_train, X_test, y_train, y_test = train_test_split(X, y, test_size =0.2, random_state = 1)\r\n"
   ],
   "outputs": [],
   "metadata": {}
  },
  {
   "cell_type": "code",
   "execution_count": 13,
   "source": [
    "#reshape\r\n",
    "\r\n",
    "y_train\r\n"
   ],
   "outputs": [
    {
     "output_type": "execute_result",
     "data": {
      "text/plain": [
       "4152    1\n",
       "931     0\n",
       "4252    0\n",
       "1743    0\n",
       "1238    0\n",
       "       ..\n",
       "905     0\n",
       "5192    1\n",
       "3980    0\n",
       "235     0\n",
       "5157    0\n",
       "Name: quality, Length: 5197, dtype: int64"
      ]
     },
     "metadata": {},
     "execution_count": 13
    }
   ],
   "metadata": {}
  },
  {
   "cell_type": "code",
   "execution_count": 14,
   "source": [
    "# to create the neural network architecture\r\n",
    "\r\n",
    "n_cols = df.shape[1]\r\n",
    "n_cols"
   ],
   "outputs": [
    {
     "output_type": "execute_result",
     "data": {
      "text/plain": [
       "12"
      ]
     },
     "metadata": {},
     "execution_count": 14
    }
   ],
   "metadata": {}
  },
  {
   "cell_type": "code",
   "execution_count": 15,
   "source": [
    "from keras.models import Sequential\r\n",
    "from keras.layers import Dense\r\n",
    "\r\n",
    "# COACHES NOTES: This is the neural network model. Fix the comment below for clarity.\r\n",
    "# model for regression\r\n",
    "model = Sequential()\r\n",
    "model.add(Dense(12, activation='relu', input_shape = (11,)))\r\n",
    "model.add(Dense(12, activation='relu'))\r\n",
    "model.add(Dense(1))\r\n",
    "\r\n"
   ],
   "outputs": [],
   "metadata": {}
  },
  {
   "cell_type": "code",
   "execution_count": 16,
   "source": [
    "#compile the model\r\n",
    "\r\n",
    "model.compile(optimizer='adam', loss='mean_squared_error', metrics=['accuracy'])\r\n",
    "\r\n"
   ],
   "outputs": [],
   "metadata": {}
  },
  {
   "cell_type": "code",
   "execution_count": 17,
   "source": [
    "#to fit the model\r\n",
    "history = model.fit(X_train, y_train, epochs = 10)\r\n",
    "\r\n"
   ],
   "outputs": [
    {
     "output_type": "stream",
     "name": "stdout",
     "text": [
      "Epoch 1/10\n",
      "163/163 [==============================] - 0s 974us/step - loss: 437.0648 - accuracy: 0.2003\n",
      "Epoch 2/10\n",
      "163/163 [==============================] - 0s 934us/step - loss: 6.5674 - accuracy: 0.2005\n",
      "Epoch 3/10\n",
      "163/163 [==============================] - 0s 996us/step - loss: 2.1469 - accuracy: 0.2892\n",
      "Epoch 4/10\n",
      "163/163 [==============================] - 0s 971us/step - loss: 1.3165 - accuracy: 0.4222\n",
      "Epoch 5/10\n",
      "163/163 [==============================] - 0s 965us/step - loss: 0.8733 - accuracy: 0.5673\n",
      "Epoch 6/10\n",
      "163/163 [==============================] - 0s 935us/step - loss: 0.3803 - accuracy: 0.7945\n",
      "Epoch 7/10\n",
      "163/163 [==============================] - 0s 936us/step - loss: 0.2874 - accuracy: 0.7989\n",
      "Epoch 8/10\n",
      "163/163 [==============================] - 0s 917us/step - loss: 0.2687 - accuracy: 0.7999\n",
      "Epoch 9/10\n",
      "163/163 [==============================] - 0s 1ms/step - loss: 0.2559 - accuracy: 0.8003\n",
      "Epoch 10/10\n",
      "163/163 [==============================] - 0s 909us/step - loss: 0.2457 - accuracy: 0.7997\n"
     ]
    }
   ],
   "metadata": {}
  },
  {
   "cell_type": "code",
   "execution_count": 18,
   "source": [
    "model.summary()"
   ],
   "outputs": [
    {
     "output_type": "stream",
     "name": "stdout",
     "text": [
      "Model: \"sequential\"\n",
      "_________________________________________________________________\n",
      "Layer (type)                 Output Shape              Param #   \n",
      "=================================================================\n",
      "dense (Dense)                (None, 12)                144       \n",
      "_________________________________________________________________\n",
      "dense_1 (Dense)              (None, 12)                156       \n",
      "_________________________________________________________________\n",
      "dense_2 (Dense)              (None, 1)                 13        \n",
      "=================================================================\n",
      "Total params: 313\n",
      "Trainable params: 313\n",
      "Non-trainable params: 0\n",
      "_________________________________________________________________\n"
     ]
    }
   ],
   "metadata": {}
  },
  {
   "cell_type": "code",
   "execution_count": 19,
   "source": [
    "#to predict = to test\r\n",
    "# X_test = data_test ; y_test = target_test\r\n",
    "\r\n",
    "y_pred = model.predict(X_test)"
   ],
   "outputs": [],
   "metadata": {}
  },
  {
   "cell_type": "code",
   "execution_count": 20,
   "source": [
    "#accuracy\r\n",
    "\r\n",
    "results = model.evaluate(X_test, y_test)\r\n",
    "print(f\"\\nAccuracy on test set is {results[1]*100:.2f}%\")"
   ],
   "outputs": [
    {
     "output_type": "stream",
     "name": "stdout",
     "text": [
      "41/41 [==============================] - 0s 1ms/step - loss: 0.2157 - accuracy: 0.8169\n",
      "\n",
      "Accuracy on test set is 81.69%\n"
     ]
    }
   ],
   "metadata": {}
  },
  {
   "cell_type": "code",
   "execution_count": 21,
   "source": [
    "print(history.params)\r\n",
    "print(history.history.keys())\r\n"
   ],
   "outputs": [
    {
     "output_type": "stream",
     "name": "stdout",
     "text": [
      "{'verbose': 1, 'epochs': 10, 'steps': 163}\n",
      "dict_keys(['loss', 'accuracy'])\n"
     ]
    }
   ],
   "metadata": {}
  },
  {
   "cell_type": "code",
   "execution_count": 22,
   "source": [
    "\r\n",
    "loss = history.history['loss']\r\n",
    "accuracy = history.history['accuracy']\r\n",
    "\r\n",
    "fig, axs = plt.subplots(nrows=1,ncols=2,figsize=(10,4))\r\n",
    "axs[0].plot(range(len(loss)), loss)\r\n",
    "axs[0].set(xlabel=\"Epochs\", ylabel=\"Loss\", title=\"Training loss\")\r\n",
    "axs[1].plot(range(len(accuracy)), accuracy)\r\n",
    "axs[1].set(xlabel=\"Epochs\", ylabel=\"Accuracy\", title=\"Training accuracy\")\r\n",
    "plt.show()\r\n",
    "\r\n",
    "# COACHES NOTES: It would be good to include the test/validation set in the learning curve plots."
   ],
   "outputs": [
    {
     "output_type": "display_data",
     "data": {
      "image/png": "[encoded data removed]",
      "text/plain": [
       "<Figure size 720x288 with 2 Axes>"
      ]
     },
     "metadata": {
      "needs_background": "light"
     }
    }
   ],
   "metadata": {}
  },
  {
   "cell_type": "code",
   "execution_count": 23,
   "source": [
    "#tuned learning rates \r\n",
    "#we compare the results of training models trained with low, medium and high learning rates\r\n",
    "\r\n",
    "lr_to_test = [0.001, 0.1, 1]"
   ],
   "outputs": [],
   "metadata": {}
  },
  {
   "cell_type": "code",
   "execution_count": 24,
   "source": [
    "from keras.optimizers import SGD\r\n",
    "\r\n",
    "def get_new_model(input_shape = n_cols):\r\n",
    "    model = Sequential()\r\n",
    "    model.add(Dense(12, activation= 'relu', input_shape = (11,)))\r\n",
    "    model.add(Dense(12, activation= 'relu'))\r\n",
    "    model.add(Dense(1))\r\n",
    "    return model\r\n",
    "\r\n",
    "\r\n",
    "#loop over learning rates\r\n",
    "for lr in lr_to_test:\r\n",
    "    print('\\n\\nTesting model with learning rate: %f\\n'%lr)\r\n",
    "    model = get_new_model()\r\n",
    "    my_optimizer = SGD(lr=lr)\r\n",
    "    model.compile(optimizer= my_optimizer, loss = 'categorical_crossentropy')\r\n",
    "    model.fit(X_train, y_train)\r\n",
    "\r\n",
    "#COACHES NOTES: Like this set up a lot! Nicely done."
   ],
   "outputs": [
    {
     "output_type": "stream",
     "name": "stdout",
     "text": [
      "\n",
      "\n",
      "Testing model with learning rate: 0.001000\n",
      "\n",
      "163/163 [==============================] - 0s 1ms/step - loss: 2.3879e-08\n",
      "\n",
      "\n",
      "Testing model with learning rate: 0.100000\n",
      "\n",
      "163/163 [==============================] - 0s 911us/step - loss: 2.3879e-08\n",
      "\n",
      "\n",
      "Testing model with learning rate: 1.000000\n",
      "\n",
      "163/163 [==============================] - 0s 949us/step - loss: 2.3879e-08\n"
     ]
    }
   ],
   "metadata": {}
  },
  {
   "cell_type": "code",
   "execution_count": 26,
   "source": [
    "#confusion matrix\r\n",
    "from sklearn import datasets\r\n",
    "from sklearn.model_selection import train_test_split\r\n",
    "from sklearn.preprocessing import StandardScaler\r\n",
    "from sklearn.ensemble import RandomForestClassifier\r\n",
    "from sklearn.pipeline import make_pipeline\r\n",
    "import tensorflow as tf\r\n",
    "import seaborn as sns\r\n",
    "\r\n",
    "conf_matrix = tf.math.confusion_matrix(y_test, y_pred)\r\n",
    "\r\n",
    "\r\n",
    "ax= plt.subplot()\r\n",
    "sns.heatmap(conf_matrix, annot=True, fmt='g', ax=ax);  #annot=True to annotate cells, ftm='g' to disable scientific notation\r\n",
    "\r\n",
    "# labels, title and ticks\r\n",
    "ax.set_xlabel('Predicted labels');ax.set_ylabel('True labels'); \r\n",
    "ax.set_title('Predictions Confusion Matrix'); \r\n",
    "ax.xaxis.set_ticklabels(['bad wine', 'good wine']); ax.yaxis.set_ticklabels(['bad wine', 'good wine'])\r\n",
    "plt.show()\r\n",
    "\r\n",
    "\r\n",
    "\"\"\"\r\n",
    "fig, ax = plt.subplots(figsize=(7.5, 7.5))\r\n",
    "\r\n",
    "ax.matshow(conf_matrix, cmap=plt.cm.Blues, alpha=0.3)\r\n",
    "\r\n",
    "#for i in range(conf_matrix.shape[0]):\r\n",
    " #   for j in range(conf_matrix.shape[1]):\r\n",
    "   #     ax.text(x=j, y=i,s=conf_matrix[i, j], va='center', ha='center', size='xx-large')\r\n",
    "plt.xlabel('Predictions', fontsize=18)\r\n",
    "plt.ylabel('Actuals', fontsize=18)\r\n",
    "plt.title('Confusion Matrix', fontsize=18)\r\n",
    "plt.show()\r\n",
    "\"\"\"\r\n",
    "\r\n",
    "\r\n",
    "# COACHES NOTES: It would be nice to add this to the final version. I see you ran into some trouble with the confusion matrix. \r\n",
    "# If you want to troubleshoot this later, let us know! Overall, nice structure! I would delete the other incomplete notebook and polish a bit more this one."
   ],
   "outputs": [
    {
     "output_type": "display_data",
     "data": {
      "image/png": "[encoded data removed]",
      "text/plain": [
       "<Figure size 432x288 with 2 Axes>"
      ]
     },
     "metadata": {
      "needs_background": "light"
     }
    },
    {
     "output_type": "execute_result",
     "data": {
      "text/plain": [
       "\"\\nfig, ax = plt.subplots(figsize=(7.5, 7.5))\\n\\nax.matshow(conf_matrix, cmap=plt.cm.Blues, alpha=0.3)\\n\\n#for i in range(conf_matrix.shape[0]):\\n #   for j in range(conf_matrix.shape[1]):\\n   #     ax.text(x=j, y=i,s=conf_matrix[i, j], va='center', ha='center', size='xx-large')\\nplt.xlabel('Predictions', fontsize=18)\\nplt.ylabel('Actuals', fontsize=18)\\nplt.title('Confusion Matrix', fontsize=18)\\nplt.show()\\n\""
      ]
     },
     "metadata": {},
     "execution_count": 26
    }
   ],
   "metadata": {}
  },
  {
   "cell_type": "code",
   "execution_count": null,
   "source": [
    "conf_matrix"
   ],
   "outputs": [],
   "metadata": {}
  },
  {
   "cell_type": "code",
   "execution_count": null,
   "source": [],
   "outputs": [],
   "metadata": {}
  }
 ],
 "metadata": {
  "kernelspec": {
   "display_name": "tf",
   "language": "python",
   "name": "tf"
  },
  "language_info": {
   "codemirror_mode": {
    "name": "ipython",
    "version": 3
   },
   "file_extension": ".py",
   "mimetype": "text/x-python",
   "name": "python",
   "nbconvert_exporter": "python",
   "pygments_lexer": "ipython3",
   "version": "3.7.11"
  }
 },
 "nbformat": 4,
 "nbformat_minor": 5
}